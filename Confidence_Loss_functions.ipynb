{
  "nbformat": 4,
  "nbformat_minor": 0,
  "metadata": {
    "colab": {
      "name": "Confidence_Loss_functions.ipynb",
      "version": "0.3.2",
      "provenance": [],
      "collapsed_sections": [],
      "include_colab_link": true
    },
    "kernelspec": {
      "name": "python3",
      "display_name": "Python 3"
    },
    "accelerator": "GPU"
  },
  "cells": [
    {
      "cell_type": "markdown",
      "metadata": {
        "id": "view-in-github",
        "colab_type": "text"
      },
      "source": [
        "<a href=\"https://colab.research.google.com/github/srinithish/product-recognition/blob/master/Confidence_Loss_functions.ipynb\" target=\"_parent\"><img src=\"https://colab.research.google.com/assets/colab-badge.svg\" alt=\"Open In Colab\"/></a>"
      ]
    },
    {
      "metadata": {
        "id": "5cLd7zC7oI5G",
        "colab_type": "code",
        "colab": {}
      },
      "cell_type": "code",
      "source": [
        "import tensorflow as tf\n",
        "import numpy as np\n",
        "import sklearn\n",
        "import pandas as pd\n",
        "from sklearn.preprocessing import StandardScaler\n",
        "import matplotlib.pyplot as plt\n",
        "from sklearn.manifold import TSNE\n",
        "import random\n",
        "import matplotlib.cm as cm\n",
        "import math\n",
        "import pickle"
      ],
      "execution_count": 0,
      "outputs": []
    },
    {
      "metadata": {
        "id": "0M4ti3alqxU6",
        "colab_type": "code",
        "colab": {
          "base_uri": "https://localhost:8080/",
          "height": 124
        },
        "outputId": "bc9329ae-0693-40ab-bb20-29808f78299a"
      },
      "cell_type": "code",
      "source": [
        "\n",
        "from google.colab import drive\n",
        "drive.mount('/content/Drive')"
      ],
      "execution_count": 12,
      "outputs": [
        {
          "output_type": "stream",
          "text": [
            "Go to this URL in a browser: https://accounts.google.com/o/oauth2/auth?client_id=947318989803-6bn6qk8qdgf4n4g3pfee6491hc0brc4i.apps.googleusercontent.com&redirect_uri=urn%3Aietf%3Awg%3Aoauth%3A2.0%3Aoob&scope=email%20https%3A%2F%2Fwww.googleapis.com%2Fauth%2Fdocs.test%20https%3A%2F%2Fwww.googleapis.com%2Fauth%2Fdrive%20https%3A%2F%2Fwww.googleapis.com%2Fauth%2Fdrive.photos.readonly%20https%3A%2F%2Fwww.googleapis.com%2Fauth%2Fpeopleapi.readonly&response_type=code\n",
            "\n",
            "Enter your authorization code:\n",
            "··········\n",
            "Mounted at /content/Drive\n"
          ],
          "name": "stdout"
        }
      ]
    },
    {
      "metadata": {
        "id": "6MGgD7BhrDKu",
        "colab_type": "code",
        "colab": {}
      },
      "cell_type": "code",
      "source": [
        "# https://medium.com/@jonathan_hui/real-time-object-detection-with-yolo-yolov2-28b1b93e2088\n",
        "# https://github.com/thtrieu/darkflow/blob/master/darkflow/net/yolo/train.py\n",
        "# https://hackernoon.com/understanding-yolo-f5a74bbc7967\n",
        "\n",
        "def confidence_loss(y_true,y_pred):\n",
        "    '''\n",
        "    y_true.shape => (batch,grows,gcols,params)    \\\\ params = P(obj) + 4 b.b params + each class probabilities\n",
        "    y_pred.shape => y_true.shape\n",
        "        \n",
        "    b.b params => (x,y,h,w)\n",
        "    \n",
        "    There are 3 types of losses:\n",
        "    1. classification loss\n",
        "    2. localization loss\n",
        "    3. confidence loss\n",
        "    \n",
        "    The λ parameters that appear here and also in the first part are used to \n",
        "    differently weight parts of the loss functions. This is necessary to increase \n",
        "    model stability. The highest penalty is for coordinate predictions (λ coord = 5) \n",
        "    and the lowest for confidence predictions when no object is present (λ noobj = 0.5).\n",
        "    '''\n",
        "    \n",
        "    ##### Confidence loss\n",
        "    '''\n",
        "    Most boxes do not contain any objects. This causes a class imbalance problem,\n",
        "    i.e. we train the model to detect background more frequently than detecting \n",
        "    objects. To remedy this, we weight this loss down by a factor λnoobj (default: 0.5).\n",
        "    box_conf_score = P(obj) * (IoU with g.t)\n",
        "    '''\n",
        "    lambda_noobj = 0.5\n",
        "    object_mask = y_true[:,:,:,:1] # 1 where there is an object, 0 elsewhere\n",
        "    no_object_mask = 1 - object_mask # Complement of object mask\n",
        "    \n",
        "    P_obj_pred = y_pred[:,:,:,:1]    # Slice probs\n",
        "    P_obj_true = y_true[:,:,:,:1]\n",
        "    \n",
        "    # Calculate iou for all the predicted boxes\n",
        "    \n",
        "    # Pred area\n",
        "    box_pred = y_pred[:,:,:,3:5]\n",
        "    coords_pred = y_pred[:,:,:,1:3]\n",
        "    \n",
        "    denorm_coords_pred = Denormalize_coordinates(coords_pred) # Slice the x,y\n",
        "    lefttop_pred,rightbot_pred = Corner_coords(denorm_coords_pred,box_pred)\n",
        "    area_pred = Area(lefttop_pred,rightbot_pred)\n",
        "    \n",
        "    # True area\n",
        "    box_true = y_true[:,:,:,3:5]\n",
        "    coords_true = y_true[:,:,:,1:3]\n",
        "    \n",
        "    denorm_coords_true = Denormalize_coordinates(coords_true) # Slice the x,y\n",
        "    lefttop_true,rightbot_true = Corner_coords(denorm_coords_true,box_true)\n",
        "    area_true = Area(lefttop_true,rightbot_true)\n",
        "    \n",
        "    # Calculate intersection\n",
        "    intersect = Intersection(lefttop_pred,rightbot_pred,lefttop_true,rightbot_true)\n",
        "    \n",
        "    # Calculate iou\n",
        "    iou = tf.truediv(intersect, area_true + area_pred - intersect)  # intersection/union\n",
        "    # iou.shape => (batch,grows,gcols,1)\n",
        "    \n",
        "    # Prediction confidences of the grid cell\n",
        "    pred_confs = tf.math.multiply(P_obj_pred,iou) # confs = P*iou\n",
        "    \n",
        "    # G.T confidences\n",
        "    true_confs = tf.math.multiply(P_obj_true,iou)\n",
        "    \n",
        "    # We want square of diff of True C - Pred C\n",
        "    loss = tf.multiply(object_mask,tf.pow(true_confs - pred_confs, 2))\n",
        "    total_loss = loss + (tf.multiply(no_object_mask,tf.pow(true_confs - pred_confs, 2)) * lambda_noobj)\n",
        "    flat_loss = tf.layers.flatten(total_loss)\n",
        "    batch_loss = tf.reduce_sum(flat_loss,axis=1)\n",
        "    \n",
        "    return tf.reduce_mean(batch_loss)"
      ],
      "execution_count": 0,
      "outputs": []
    },
    {
      "metadata": {
        "id": "6CHjD-A2zgXr",
        "colab_type": "code",
        "colab": {}
      },
      "cell_type": "code",
      "source": [
        "def Denormalize_coordinates(pred_coords):\n",
        "    '''\n",
        "    Inputs\n",
        "    pred_coords.shape => (batch,grows,gcols,2) # normed x and y of the b.b\n",
        "    \n",
        "    Output:\n",
        "    denormalized_coord.shape => (batch,grows,gcols,2) # denormed x and y of the b.b\n",
        "    '''\n",
        "    img_height = tf.constant(342)\n",
        "    img_width = tf.constant(342)\n",
        "    \n",
        "    grows = tf.constant(19)\n",
        "    gcols = tf.constant(19)\n",
        "    \n",
        "    cell_height = tf.truediv(img_height,grows)\n",
        "    cell_width = tf.truediv(img_width,gcols)\n",
        "    \n",
        "    col_id = tf.to_float(tf.reshape(tf.tile(tf.range(grows), [gcols]), (1, grows, gcols, 1)))\n",
        "    row_id = tf.to_float(tf.reshape(tf.tile(tf.range(grows), [gcols]), (1, grows, gcols, 1)))\n",
        "    row_id = tf.transpose(row_id)\n",
        "    coord_id = tf.concat([col_id,row_id],-1) # a 4D tensor that gives the coordinates for every box (col,row)\n",
        "\n",
        "    coords_lefttop = tf.multiply(coord_id,[cell_width,cell_height]) # Gets the leftmost coordinate for every box\n",
        "    cell_denormalized_coords = tf.multiply(pred_coords,[cell_width,cell_height])\n",
        "    \n",
        "    denormalized_coord = coords_lefttop + cell_denormalized_coords\n",
        "    \n",
        "    return denormalized_coord"
      ],
      "execution_count": 0,
      "outputs": []
    },
    {
      "metadata": {
        "id": "bOrd2d4czhj9",
        "colab_type": "text"
      },
      "cell_type": "markdown",
      "source": [
        ""
      ]
    },
    {
      "metadata": {
        "id": "FRXjBuy834t6",
        "colab_type": "code",
        "colab": {}
      },
      "cell_type": "code",
      "source": [
        "def Corner_coords(denorm_coords,box_params):\n",
        "    '''\n",
        "    box_params are h and w\n",
        "    We have [h,w] but we want [w,h]\n",
        "    This is because the coords tensor has [x,y]\n",
        "    \n",
        "    box_params.shape => (batch,grows,gcols,2)\n",
        "    \n",
        "    Output:\n",
        "    lefttop and rightbot points of this b.b\n",
        "    '''\n",
        "    img_height = tf.constant(342)\n",
        "    img_width = tf.constant(342)\n",
        "    \n",
        "    grows = tf.constant(19)\n",
        "    gcols = tf.constant(19)\n",
        "    \n",
        "    cell_height = tf.truediv(img_height,grows)\n",
        "    cell_width = tf.truediv(img_width,gcols)\n",
        "    \n",
        "    box_params = tf.reverse(box_params,[-1]) # Now w,h\n",
        "    box_params = tf.multiply(box_params,[img_width,img_height])\n",
        "    \n",
        "    halfs = box_params/2\n",
        "    \n",
        "    lefttop = denorm_coords - halfs\n",
        "    rightbot = denorm_coords + halfs\n",
        "    \n",
        "    return lefttop,rightbot"
      ],
      "execution_count": 0,
      "outputs": []
    },
    {
      "metadata": {
        "id": "wkDBpUjMCiuI",
        "colab_type": "code",
        "colab": {}
      },
      "cell_type": "code",
      "source": [
        "def Area(lefttop,rightbot):\n",
        "    diff = rightbot - lefttop\n",
        "    \n",
        "    area = tf.math.reduce_prod(diff,axis=-1,keepdims=True) # shape => (batch,grows,gcols,1)\n",
        "    \n",
        "    return area    "
      ],
      "execution_count": 0,
      "outputs": []
    },
    {
      "metadata": {
        "id": "fm67EKn2WO-s",
        "colab_type": "code",
        "colab": {}
      },
      "cell_type": "code",
      "source": [
        "def Intersection(p1,p2,p3,p4):\n",
        "    '''\n",
        "    p1 is the lefttop point of the first b.b\n",
        "    p2 is the rightbot point of the first b.b\n",
        "    p3 is the lefttop point of the second b.b\n",
        "    p4 is the rightbot point of the second b.b\n",
        "    \n",
        "    p5 => take the max of p1 and p3\n",
        "    p6 => take the min of p2 and p4\n",
        "    \n",
        "    p5 and p6 are the intersection box's lefttop and righttop coords\n",
        "    find area of this box and return it\n",
        "    \n",
        "    p1.shape => (batch,grwos,gcols,2)\n",
        "    '''\n",
        "    p5 = tf.math.maximum(p1,p3)\n",
        "    p6 = tf.math.minimum(p2,p4)\n",
        "    \n",
        "    area = Area(p5,p6)\n",
        "    return area\n",
        "    \n",
        "        "
      ],
      "execution_count": 0,
      "outputs": []
    },
    {
      "metadata": {
        "id": "AWz4HP8jFw-A",
        "colab_type": "code",
        "outputId": "3e301501-4374-4a0c-a9fd-3c42ef240545",
        "colab": {
          "base_uri": "https://localhost:8080/",
          "height": 176
        }
      },
      "cell_type": "code",
      "source": [
        "y_true = tf.ones([170,19,19,70],dtype=tf.dtypes.float32)\n",
        "y_pred = tf.random.normal([170,19,19,70],dtype=tf.dtypes.float32)\n",
        "\n",
        "tf.InteractiveSession()\n",
        "y = y_pred.eval()\n",
        "print(np.shape(y))\n",
        "print(np.shape(y_pred[...,1].eval()))\n",
        "loss = confidence_loss(y_true,tf.sigmoid(y_pred))"
      ],
      "execution_count": 8,
      "outputs": [
        {
          "output_type": "stream",
          "text": [
            "(170, 19, 19, 70)\n",
            "(170, 19, 19)\n",
            "WARNING:tensorflow:From <ipython-input-2-b61e49c19f1a>:18: to_float (from tensorflow.python.ops.math_ops) is deprecated and will be removed in a future version.\n",
            "Instructions for updating:\n",
            "Use tf.cast instead.\n",
            "WARNING:tensorflow:From <ipython-input-1-ab84ae4131d0>:68: flatten (from tensorflow.python.layers.core) is deprecated and will be removed in a future version.\n",
            "Instructions for updating:\n",
            "Use keras.layers.flatten instead.\n"
          ],
          "name": "stdout"
        }
      ]
    },
    {
      "metadata": {
        "id": "XY3zgjS2Q2Eg",
        "colab_type": "code",
        "colab": {}
      },
      "cell_type": "code",
      "source": [
        "dirpathForTrainingFiles  = \"/content/Drive/My Drive/Deeplearning Project/Reshaped/\"\n",
        "\n",
        "\n",
        "\n",
        "annotationsPath = dirpathForTrainingFiles + 'annotations/'\n",
        "imagesPath = dirpathForTrainingFiles+ 'images/'\n",
        "\n",
        "###for image as numpy array X\n",
        "imagesAsArrayPklPath =  annotationsPath+'resizedAllImgArray.pkl'\n",
        "###for true Y\n",
        "targetVariablePklPath = annotationsPath+'resizedAllTargetArray.pkl'\n",
        "\n",
        "### for visualising\n",
        "\n",
        "imagefilePattern = imagesPath+'*'\n",
        "ImgDictsPath_True_Path = annotationsPath+'resizedImageDictsAllFiles.pkl'\n",
        "ObjLists_True_Path = annotationsPath+'resizedObjectListsAllFiles.pkl'\n",
        "predictionArrayPath = annotationsPath+'PredictionArray.pkl'\n",
        "\n",
        "\n",
        "TrainX = np.array(pickle.load(open(imagesAsArrayPklPath, 'rb')))\n",
        "\n",
        "TrainY = np.array(pickle.load(open(targetVariablePklPath, 'rb')))\n",
        "predictionsY = np.array(pickle.load(open(predictionArrayPath, 'rb')))\n",
        "predictionsY = predictionsY.astype(np.float32)\n",
        "TrainY = TrainY.astype(np.float32)"
      ],
      "execution_count": 0,
      "outputs": []
    },
    {
      "metadata": {
        "id": "pEBMMkEBQ5Te",
        "colab_type": "code",
        "colab": {
          "base_uri": "https://localhost:8080/",
          "height": 72
        },
        "outputId": "3e717687-2eb6-402c-db2b-5b3f46795a87"
      },
      "cell_type": "code",
      "source": [
        "\n",
        "sess  = tf.InteractiveSession()\n",
        "predictionsY = tf.convert_to_tensor(predictionsY)\n",
        "TrainY = tf.convert_to_tensor(TrainY)\n",
        "\n",
        "loss = confidence_loss(predictionsY,TrainY)\n"
      ],
      "execution_count": 14,
      "outputs": [
        {
          "output_type": "stream",
          "text": [
            "/usr/local/lib/python3.6/dist-packages/tensorflow/python/client/session.py:1702: UserWarning: An interactive session is already active. This can cause out-of-memory errors in some cases. You must explicitly call `InteractiveSession.close()` to release resources held by the other session(s).\n",
            "  warnings.warn('An interactive session is already active. This can '\n"
          ],
          "name": "stderr"
        }
      ]
    },
    {
      "metadata": {
        "id": "_RR13CceGNdK",
        "colab_type": "code",
        "outputId": "b22445ac-3c74-4fc8-cf70-dd006be4a7c2",
        "colab": {
          "base_uri": "https://localhost:8080/",
          "height": 35
        }
      },
      "cell_type": "code",
      "source": [
        "loss.eval()"
      ],
      "execution_count": 15,
      "outputs": [
        {
          "output_type": "execute_result",
          "data": {
            "text/plain": [
              "0.114670254"
            ]
          },
          "metadata": {
            "tags": []
          },
          "execution_count": 15
        }
      ]
    },
    {
      "metadata": {
        "id": "wd-8GHOXa47u",
        "colab_type": "code",
        "colab": {}
      },
      "cell_type": "code",
      "source": [
        ""
      ],
      "execution_count": 0,
      "outputs": []
    }
  ]
}